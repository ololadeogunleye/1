{
  "nbformat": 4,
  "nbformat_minor": 0,
  "metadata": {
    "colab": {
      "provenance": [],
      "collapsed_sections": [
        "EJ3FOZjyxGNr"
      ],
      "include_colab_link": true
    },
    "kernelspec": {
      "name": "python3",
      "display_name": "Python 3"
    },
    "language_info": {
      "name": "python"
    }
  },
  "cells": [
    {
      "cell_type": "markdown",
      "metadata": {
        "id": "view-in-github",
        "colab_type": "text"
      },
      "source": [
        "<a href=\"https://colab.research.google.com/github/ololadeogunleye/1/blob/main/Python_Interview_for_Bincom_python_intern_role.ipynb\" target=\"_parent\"><img src=\"https://colab.research.google.com/assets/colab-badge.svg\" alt=\"Open In Colab\"/></a>"
      ]
    },
    {
      "cell_type": "markdown",
      "source": [
        "# **Read** **File**"
      ],
      "metadata": {
        "id": "5XocFQcnG-Q6"
      }
    },
    {
      "cell_type": "code",
      "source": [
        "pip install python-docx"
      ],
      "metadata": {
        "colab": {
          "base_uri": "https://localhost:8080/"
        },
        "id": "xl5Y1bUxq1BL",
        "outputId": "9826be33-e2d6-4c64-b2ed-1d5cb6877dd2"
      },
      "execution_count": null,
      "outputs": [
        {
          "output_type": "stream",
          "name": "stdout",
          "text": [
            "Looking in indexes: https://pypi.org/simple, https://us-python.pkg.dev/colab-wheels/public/simple/\n",
            "Collecting python-docx\n",
            "  Downloading python-docx-0.8.11.tar.gz (5.6 MB)\n",
            "\u001b[2K     \u001b[90m━━━━━━━━━━━━━━━━━━━━━━━━━━━━━━━━━━━━━━━━\u001b[0m \u001b[32m5.6/5.6 MB\u001b[0m \u001b[31m31.2 MB/s\u001b[0m eta \u001b[36m0:00:00\u001b[0m\n",
            "\u001b[?25h  Preparing metadata (setup.py) ... \u001b[?25l\u001b[?25hdone\n",
            "Requirement already satisfied: lxml>=2.3.2 in /usr/local/lib/python3.8/dist-packages (from python-docx) (4.9.2)\n",
            "Building wheels for collected packages: python-docx\n",
            "  Building wheel for python-docx (setup.py) ... \u001b[?25l\u001b[?25hdone\n",
            "  Created wheel for python-docx: filename=python_docx-0.8.11-py3-none-any.whl size=184505 sha256=e3817913a0058722fb1de0ea589206a0338b0179f1ab7b84ceff9c28432c961d\n",
            "  Stored in directory: /root/.cache/pip/wheels/32/b8/b2/c4c2b95765e615fe139b0b17b5ea7c0e1b6519b0a9ec8fb34d\n",
            "Successfully built python-docx\n",
            "Installing collected packages: python-docx\n",
            "Successfully installed python-docx-0.8.11\n"
          ]
        }
      ]
    },
    {
      "cell_type": "code",
      "execution_count": null,
      "metadata": {
        "id": "pgN0dfcpG5VV"
      },
      "outputs": [],
      "source": [
        "'''import docx\n",
        "\n",
        "def getTextFromFile(file):\n",
        "  doc = docx.Document(file)\n",
        "  text_array = []\n",
        "\n",
        "  for paragraph in doc.paragraphs:\n",
        "    text_array.append(paragraph.text)\n",
        "\n",
        "  return '\\n'.join(text_array)\n",
        "\n",
        "a = getTextFromFile('/content/python_class_question.docx')\n",
        "print(a)'''\n"
      ]
    },
    {
      "cell_type": "code",
      "source": [
        "'''from urllib.request import urlopen\n",
        "from bs4 import BeautifulSoup\n",
        "\n",
        "# Fetch the html file\n",
        "response = urlopen('https://drive.google.com/open?id=1nf9WMDjZWIUnlnKyz7qomEYDdtWfW1Uf')\n",
        "html_doc = response.read()\n",
        "\n",
        "# Parse the html file\n",
        "soup = BeautifulSoup(html_doc, 'html.parser')\n",
        "\n",
        "# Format the parsed html file\n",
        "strhtm = soup.prettify()\n",
        "\n",
        "# Print the first few characters\n",
        "print (strhtm)'''"
      ],
      "metadata": {
        "id": "_JlDMnLprs8g"
      },
      "execution_count": null,
      "outputs": []
    },
    {
      "cell_type": "code",
      "source": [
        "import pandas as pd\n",
        "from docx import Document\n",
        "document = Document(\"/content/python_class_question.docx\")"
      ],
      "metadata": {
        "id": "l3aGQJeptA-M"
      },
      "execution_count": null,
      "outputs": []
    },
    {
      "cell_type": "code",
      "source": [
        "table = document.tables[0]"
      ],
      "metadata": {
        "id": "JG89T2rBtnf_"
      },
      "execution_count": null,
      "outputs": []
    },
    {
      "cell_type": "markdown",
      "source": [
        "# Variables"
      ],
      "metadata": {
        "id": "l1aeBBGBIpyP"
      }
    },
    {
      "cell_type": "code",
      "source": [
        "data = [[cell.text for cell in row.cells] for row in table.rows]\n",
        "df = pd.DataFrame(data)"
      ],
      "metadata": {
        "id": "f5uOm_zCtno_"
      },
      "execution_count": null,
      "outputs": []
    },
    {
      "cell_type": "code",
      "source": [
        "print(df)"
      ],
      "metadata": {
        "colab": {
          "base_uri": "https://localhost:8080/"
        },
        "id": "yD3-qOaguAYC",
        "outputId": "9dd06acc-94c5-4b31-cf2f-d7658f980744"
      },
      "execution_count": null,
      "outputs": [
        {
          "output_type": "stream",
          "name": "stdout",
          "text": [
            "           0                                                  1\n",
            "0        DAY                                            COLOURS\n",
            "1     MONDAY  GREEN, YELLOW, GREEN, BROWN, BLUE, PINK, BLUE,...\n",
            "2    TUESDAY  ARSH, BROWN, GREEN, BROWN, BLUE, BLUE, BLEW, P...\n",
            "3  WEDNESDAY  GREEN, YELLOW, GREEN, BROWN, BLUE, PINK, RED, ...\n",
            "4   THURSDAY  BLUE, BLUE, GREEN, WHITE, BLUE, BROWN, PINK, Y...\n",
            "5     FRIDAY  GREEN, WHITE, GREEN, BROWN, BLUE, BLUE, BLACK,...\n"
          ]
        }
      ]
    },
    {
      "cell_type": "code",
      "source": [
        "lists = df.values.tolist()\n",
        "monday = lists[1][1:]\n",
        "tuesday = lists[2][1:]\n",
        "wednesday = lists[3][1:]\n",
        "thursday = lists[4][1:]\n",
        "friday = lists[5][1:]\n",
        "total = monday + tuesday + wednesday + thursday + friday\n",
        "str_total = str(total)\n",
        "colours = str_total.split(\",\")\n",
        "colours[0] = colours[0][2:]\n",
        "colours[-1] = colours[-1][:-2]\n",
        "for item in range(len(colours)):\n",
        "  colours[item] = colours[item].strip(' ')\n",
        "  colours[item] = colours[item].strip(\" ' \")\n",
        "print(colours)\n"
      ],
      "metadata": {
        "id": "z0SrW3aNIsMI",
        "colab": {
          "base_uri": "https://localhost:8080/"
        },
        "outputId": "ca61cbd0-dd8a-4e43-ea3d-9eb5583d9f70"
      },
      "execution_count": null,
      "outputs": [
        {
          "output_type": "stream",
          "name": "stdout",
          "text": [
            "['GREEN', 'YELLOW', 'GREEN', 'BROWN', 'BLUE', 'PINK', 'BLUE', 'YELLOW', 'ORANGE', 'CREAM', 'ORANGE', 'RED', 'WHITE', 'BLUE', 'WHITE', 'BLUE', 'BLUE', 'BLUE', 'GREEN', 'ARSH', 'BROWN', 'GREEN', 'BROWN', 'BLUE', 'BLUE', 'BLEW', 'PINK', 'PINK', 'ORANGE', 'ORANGE', 'RED', 'WHITE', 'BLUE', 'WHITE', 'WHITE', 'BLUE', 'BLUE', 'BLUE', 'GREEN', 'YELLOW', 'GREEN', 'BROWN', 'BLUE', 'PINK', 'RED', 'YELLOW', 'ORANGE', 'RED', 'ORANGE', 'RED', 'BLUE', 'BLUE', 'WHITE', 'BLUE', 'BLUE', 'WHITE', 'WHITE', 'BLUE', 'BLUE', 'GREEN', 'WHITE', 'BLUE', 'BROWN', 'PINK', 'YELLOW', 'ORANGE', 'CREAM', 'ORANGE', 'RED', 'WHITE', 'BLUE', 'WHITE', 'BLUE', 'BLUE', 'BLUE', 'GREEN', 'GREEN', 'WHITE', 'GREEN', 'BROWN', 'BLUE', 'BLUE', 'BLACK', 'WHITE', 'ORANGE', 'RED', 'RED', 'RED', 'WHITE', 'BLUE', 'WHITE', 'BLUE', 'BLUE', 'BLUE', 'WHITE']\n"
          ]
        }
      ]
    },
    {
      "cell_type": "code",
      "source": [
        "'''total_dic = {}\n",
        "for item in total:\n",
        "  if item in total_dic'''\n",
        "\n"
      ],
      "metadata": {
        "id": "7H8XR41a4Ix8"
      },
      "execution_count": null,
      "outputs": []
    },
    {
      "cell_type": "markdown",
      "source": [
        "# Mean Colour"
      ],
      "metadata": {
        "id": "xABGBA5aHqK9"
      }
    },
    {
      "cell_type": "code",
      "source": [
        "import statistics"
      ],
      "metadata": {
        "id": "z8ZgMCZz7n9h"
      },
      "execution_count": null,
      "outputs": []
    },
    {
      "cell_type": "code",
      "source": [
        "# Which color of shirt is the mean color?\n",
        "mean_color = statistics.mode(colours)\n",
        "print(mean_color)\n"
      ],
      "metadata": {
        "id": "lEtLoVe0H-Ur",
        "colab": {
          "base_uri": "https://localhost:8080/"
        },
        "outputId": "2edd44f8-2a4f-4bee-d8a9-25bed4579e1f"
      },
      "execution_count": null,
      "outputs": [
        {
          "output_type": "stream",
          "name": "stdout",
          "text": [
            "BLUE\n"
          ]
        }
      ]
    },
    {
      "cell_type": "markdown",
      "source": [
        "# Mode Colour\n",
        "\n"
      ],
      "metadata": {
        "id": "W3MqVKGIIB8Y"
      }
    },
    {
      "cell_type": "code",
      "source": [
        "# Which color is mostly worn throughout the week?\n",
        "from collections import Counter\n",
        "color_count = Counter(colours)\n",
        "most_common_color = color_count.most_common(1)[0][0]\n",
        "print(most_common_color)\n"
      ],
      "metadata": {
        "id": "sJZaTIjqIQ91",
        "colab": {
          "base_uri": "https://localhost:8080/"
        },
        "outputId": "a441caa5-cb06-48a9-eb8e-ace631d8fafd"
      },
      "execution_count": null,
      "outputs": [
        {
          "output_type": "stream",
          "name": "stdout",
          "text": [
            "BLUE\n"
          ]
        }
      ]
    },
    {
      "cell_type": "markdown",
      "source": [
        "# Median Colour"
      ],
      "metadata": {
        "id": "LQxr5D4kISE1"
      }
    },
    {
      "cell_type": "code",
      "source": [
        "# Which color is the median?\n",
        "import statistics\n",
        "colours.sort()\n",
        "median_color = statistics.median(colours)\n",
        "print(median_color)\n",
        "\n"
      ],
      "metadata": {
        "id": "Hxf929a7IVyZ",
        "colab": {
          "base_uri": "https://localhost:8080/"
        },
        "outputId": "89fbf939-8f1d-40ea-c95f-02445f003fa1"
      },
      "execution_count": null,
      "outputs": [
        {
          "output_type": "stream",
          "name": "stdout",
          "text": [
            "GREEN\n"
          ]
        }
      ]
    },
    {
      "cell_type": "markdown",
      "source": [
        "# Variance Colour "
      ],
      "metadata": {
        "id": "yJvNu_siIWif"
      }
    },
    {
      "cell_type": "code",
      "source": [
        "# the variance of the colors\n",
        "import statistics\n",
        "colours_distinct = set(colours)\n",
        "count = 0 \n",
        "colours_distinct_dict = {}\n",
        "print(colours_distinct)\n",
        "for  i in colours_distinct:\n",
        "  colours_distinct_dict[i] = count\n",
        "  count += 1\n",
        "print(colours_distinct_dict)\n",
        "numerical_colors = [colours_distinct_dict[color] for color in colours]\n",
        "print(numerical_colors)\n",
        "color_variance = statistics.variance(numerical_colors)\n",
        "print(color_variance)"
      ],
      "metadata": {
        "id": "X-VMzdIzIdnJ",
        "colab": {
          "base_uri": "https://localhost:8080/"
        },
        "outputId": "6f260266-6ab7-416d-91e6-d5ed50a3e630"
      },
      "execution_count": null,
      "outputs": [
        {
          "output_type": "stream",
          "name": "stdout",
          "text": [
            "{'BLEW', 'CREAM', 'BLUE', 'PINK', 'BROWN', 'GREEN', 'ORANGE', 'YELLOW', 'BLACK', 'WHITE', 'ARSH', 'RED'}\n",
            "{'BLEW': 0, 'CREAM': 1, 'BLUE': 2, 'PINK': 3, 'BROWN': 4, 'GREEN': 5, 'ORANGE': 6, 'YELLOW': 7, 'BLACK': 8, 'WHITE': 9, 'ARSH': 10, 'RED': 11}\n",
            "[10, 8, 0, 2, 2, 2, 2, 2, 2, 2, 2, 2, 2, 2, 2, 2, 2, 2, 2, 2, 2, 2, 2, 2, 2, 2, 2, 2, 2, 2, 2, 2, 2, 4, 4, 4, 4, 4, 4, 1, 1, 5, 5, 5, 5, 5, 5, 5, 5, 5, 5, 6, 6, 6, 6, 6, 6, 6, 6, 6, 3, 3, 3, 3, 3, 11, 11, 11, 11, 11, 11, 11, 11, 11, 9, 9, 9, 9, 9, 9, 9, 9, 9, 9, 9, 9, 9, 9, 9, 9, 7, 7, 7, 7, 7]\n",
            "10.520044792833147\n"
          ]
        }
      ]
    },
    {
      "cell_type": "markdown",
      "source": [
        "# Probability of Red"
      ],
      "metadata": {
        "id": "jceUpGcUIivz"
      }
    },
    {
      "cell_type": "code",
      "source": [
        " #  if a colour is chosen at random, what is the probability that the color is red?\n",
        "red_count = colours.count(\"RED\")\n",
        "probability_red = red_count / len(colours)\n",
        "print(probability_red)"
      ],
      "metadata": {
        "id": "TxApyjMBIlQH",
        "colab": {
          "base_uri": "https://localhost:8080/"
        },
        "outputId": "fdd9cdff-9d9f-4165-8332-c8bd1362c647"
      },
      "execution_count": null,
      "outputs": [
        {
          "output_type": "stream",
          "name": "stdout",
          "text": [
            "0.09473684210526316\n"
          ]
        }
      ]
    },
    {
      "cell_type": "markdown",
      "source": [
        " # Save the colours and their frequencies in postgresql database"
      ],
      "metadata": {
        "id": "EJ3FOZjyxGNr"
      }
    },
    {
      "cell_type": "code",
      "source": [
        "import psycopg2\n",
        "from collections import Counter\n",
        "\n",
        "connection = psycopg2.connect(\n",
        "    host=\"hostname\",\n",
        "    database=\"database_name\",\n",
        "    user=\"username\",\n",
        "    password=\"password\"\n",
        ")\n",
        "\n",
        "cursor = connection.cursor()\n",
        "cursor.execute('''CREATE TABLE color_frequency (color VARCHAR(255), frequency INTEGER)''')\n",
        "\n",
        "\n",
        "color_count = Counter(colours)\n",
        "\n",
        "for color, frequency in color_count.items():\n",
        "    cursor.execute(f\"INSERT INTO color_frequency (color, frequency) VALUES ('{color}', {frequency})\")\n",
        "\n",
        "connection.commit()\n",
        "connection.close()\n"
      ],
      "metadata": {
        "id": "YUTuvMeVxLiD"
      },
      "execution_count": null,
      "outputs": []
    },
    {
      "cell_type": "markdown",
      "source": [
        "# Recursive Searching Algorithm"
      ],
      "metadata": {
        "id": "HzdA9SChIyZa"
      }
    },
    {
      "cell_type": "code",
      "source": [
        "# write a recursive searching algorithm to search for a number entered by user in a list of numbers.\n",
        "def recursive_search(numbers, target, start=0, end=None):\n",
        "    if end is None:\n",
        "        end = len(numbers) - 1\n",
        "    if start > end:\n",
        "        return -1\n",
        "    middle = (start + end) // 2\n",
        "    if numbers[middle] == target:\n",
        "        return middle\n",
        "    elif numbers[middle] > target:\n",
        "        return recursive_search(numbers, target, start, middle - 1)\n",
        "    else:\n",
        "        return recursive_search(numbers, target, middle + 1, end)\n",
        "\n",
        "numbers = [1, 2, 3, 4, 5, 6, 7, 8, 9]\n",
        "target = int(input(\"Enter a number to search for: \"))\n",
        "result = recursive_search(numbers, target)\n",
        "if result == -1:\n",
        "    print(f\"{target} not found in list\")\n",
        "else:\n",
        "    print(f\"{target} found at index {result}\")\n"
      ],
      "metadata": {
        "id": "BdLqYiLcI8KD"
      },
      "execution_count": null,
      "outputs": []
    },
    {
      "cell_type": "markdown",
      "source": [
        "# Random Base 2 Digits converted to Base 10"
      ],
      "metadata": {
        "id": "1zrfuS4MI_I2"
      }
    },
    {
      "cell_type": "code",
      "source": [
        "# write a program that generates random 4 digits number of 0s and 1s and convert the generated number to base 10\n",
        "import random\n",
        "\n",
        "#generating a random 4 digits number of 0s and 1s\n",
        "binary_number = \"\".join([str(random.randint(0, 1)) for i in range(4)])\n",
        "print(f\"Random 4 digit binary number: {binary_number}\")\n",
        "\n",
        "# converting the binary number to base 10\n",
        "decimal_number = int(binary_number, 2)\n",
        "print(f\"Converted to base 10: {decimal_number}\")\n"
      ],
      "metadata": {
        "id": "Vyc0zMsgJhlQ",
        "colab": {
          "base_uri": "https://localhost:8080/"
        },
        "outputId": "fe3019f5-8570-46fc-97e7-35fb1cc121ea"
      },
      "execution_count": null,
      "outputs": [
        {
          "output_type": "stream",
          "name": "stdout",
          "text": [
            "Random 4 digit binary number: 1111\n",
            "Converted to base 10: 15\n"
          ]
        }
      ]
    },
    {
      "cell_type": "markdown",
      "source": [
        "# Sum the first 50 Fibonacci Sequence "
      ],
      "metadata": {
        "id": "S9DuIsX_JlF7"
      }
    },
    {
      "cell_type": "code",
      "source": [
        "# Write a program to sum the first 50 fibonacci sequence.\n",
        "def fibonacci(n):\n",
        "    if n <= 0:\n",
        "        return 0\n",
        "    elif n == 1:\n",
        "        return 1\n",
        "    else:\n",
        "        return fibonacci(n-1) + fibonacci(n-2)\n",
        "\n",
        "# generate the first 50 fibonacci numbers\n",
        "fib_list = [fibonacci(i) for i in range(1,51)]\n",
        "\n",
        "# sum of the first 50 fibonacci numbers\n",
        "sum_of_fib = sum(fib_list)\n",
        "\n",
        "print(f\"Sum of the first 50 Fibonacci numbers: {sum_of_fib}\")\n"
      ],
      "metadata": {
        "id": "--w2L5-iJqSq"
      },
      "execution_count": null,
      "outputs": []
    }
  ]
}